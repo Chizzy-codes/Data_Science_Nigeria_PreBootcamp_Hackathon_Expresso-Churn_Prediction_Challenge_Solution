{
 "cells": [
  {
   "cell_type": "code",
   "execution_count": 1,
   "metadata": {
    "ExecuteTime": {
     "end_time": "2020-12-04T17:05:22.090777Z",
     "start_time": "2020-12-04T17:05:16.034902Z"
    }
   },
   "outputs": [],
   "source": [
    "import numpy as np\n",
    "import pandas as pd\n",
    "import matplotlib.pyplot as plt\n",
    "import seaborn as sns\n",
    "\n",
    "%matplotlib inline\n",
    "sns.set()"
   ]
  },
  {
   "cell_type": "markdown",
   "metadata": {},
   "source": [
    "# Best Score 0.24667"
   ]
  },
  {
   "cell_type": "code",
   "execution_count": 2,
   "metadata": {
    "ExecuteTime": {
     "end_time": "2020-12-04T17:05:35.766026Z",
     "start_time": "2020-12-04T17:05:28.394691Z"
    }
   },
   "outputs": [],
   "source": [
    "train = pd.read_csv('../data/Train.csv')"
   ]
  },
  {
   "cell_type": "code",
   "execution_count": 3,
   "metadata": {
    "ExecuteTime": {
     "end_time": "2020-12-04T17:05:41.830970Z",
     "start_time": "2020-12-04T17:05:36.025322Z"
    }
   },
   "outputs": [],
   "source": [
    "test = pd.read_csv('../data/Test.csv')"
   ]
  },
  {
   "cell_type": "code",
   "execution_count": 4,
   "metadata": {
    "ExecuteTime": {
     "end_time": "2020-09-10T01:39:11.399487Z",
     "start_time": "2020-09-10T01:39:11.370484Z"
    },
    "scrolled": true
   },
   "outputs": [
    {
     "data": {
      "text/html": [
       "<div>\n",
       "<style scoped>\n",
       "    .dataframe tbody tr th:only-of-type {\n",
       "        vertical-align: middle;\n",
       "    }\n",
       "\n",
       "    .dataframe tbody tr th {\n",
       "        vertical-align: top;\n",
       "    }\n",
       "\n",
       "    .dataframe thead th {\n",
       "        text-align: right;\n",
       "    }\n",
       "</style>\n",
       "<table border=\"1\" class=\"dataframe\">\n",
       "  <thead>\n",
       "    <tr style=\"text-align: right;\">\n",
       "      <th></th>\n",
       "      <th>user_id</th>\n",
       "      <th>REGION</th>\n",
       "      <th>TENURE</th>\n",
       "      <th>MONTANT</th>\n",
       "      <th>FREQUENCE_RECH</th>\n",
       "      <th>REVENUE</th>\n",
       "      <th>ARPU_SEGMENT</th>\n",
       "      <th>FREQUENCE</th>\n",
       "      <th>DATA_VOLUME</th>\n",
       "      <th>ON_NET</th>\n",
       "      <th>ORANGE</th>\n",
       "      <th>TIGO</th>\n",
       "      <th>ZONE1</th>\n",
       "      <th>ZONE2</th>\n",
       "      <th>MRG</th>\n",
       "      <th>REGULARITY</th>\n",
       "      <th>TOP_PACK</th>\n",
       "      <th>FREQ_TOP_PACK</th>\n",
       "      <th>CHURN</th>\n",
       "    </tr>\n",
       "  </thead>\n",
       "  <tbody>\n",
       "    <tr>\n",
       "      <th>0</th>\n",
       "      <td>dcf68cc2fb515ccad7d8b9b3bd80ee2a4b270063</td>\n",
       "      <td>SAINT-LOUIS</td>\n",
       "      <td>K &gt; 24 month</td>\n",
       "      <td>17000.0</td>\n",
       "      <td>32.0</td>\n",
       "      <td>18000.0</td>\n",
       "      <td>6000.0</td>\n",
       "      <td>34.0</td>\n",
       "      <td>NaN</td>\n",
       "      <td>97.0</td>\n",
       "      <td>355.0</td>\n",
       "      <td>6.0</td>\n",
       "      <td>NaN</td>\n",
       "      <td>NaN</td>\n",
       "      <td>NO</td>\n",
       "      <td>62</td>\n",
       "      <td>All-net 500F=2000F;5d</td>\n",
       "      <td>35.0</td>\n",
       "      <td>0</td>\n",
       "    </tr>\n",
       "    <tr>\n",
       "      <th>1</th>\n",
       "      <td>71c44b5ba328db5c4192a80f7cf8f244d9350ed0</td>\n",
       "      <td>NaN</td>\n",
       "      <td>K &gt; 24 month</td>\n",
       "      <td>4300.0</td>\n",
       "      <td>29.0</td>\n",
       "      <td>4427.0</td>\n",
       "      <td>1476.0</td>\n",
       "      <td>37.0</td>\n",
       "      <td>1764.0</td>\n",
       "      <td>8.0</td>\n",
       "      <td>3.0</td>\n",
       "      <td>0.0</td>\n",
       "      <td>NaN</td>\n",
       "      <td>2.0</td>\n",
       "      <td>NO</td>\n",
       "      <td>40</td>\n",
       "      <td>Data: 100 F=40MB,24H</td>\n",
       "      <td>22.0</td>\n",
       "      <td>0</td>\n",
       "    </tr>\n",
       "    <tr>\n",
       "      <th>2</th>\n",
       "      <td>ce46411b1526c94f20a383b8cb188f8d27f82a0a</td>\n",
       "      <td>TAMBACOUNDA</td>\n",
       "      <td>K &gt; 24 month</td>\n",
       "      <td>1500.0</td>\n",
       "      <td>3.0</td>\n",
       "      <td>1500.0</td>\n",
       "      <td>500.0</td>\n",
       "      <td>3.0</td>\n",
       "      <td>NaN</td>\n",
       "      <td>30.0</td>\n",
       "      <td>30.0</td>\n",
       "      <td>NaN</td>\n",
       "      <td>NaN</td>\n",
       "      <td>NaN</td>\n",
       "      <td>NO</td>\n",
       "      <td>32</td>\n",
       "      <td>All-net 500F=2000F;5d</td>\n",
       "      <td>3.0</td>\n",
       "      <td>0</td>\n",
       "    </tr>\n",
       "    <tr>\n",
       "      <th>3</th>\n",
       "      <td>f467cdb6669818373c26c2bad44e01ba66f97d21</td>\n",
       "      <td>FATICK</td>\n",
       "      <td>K &gt; 24 month</td>\n",
       "      <td>1500.0</td>\n",
       "      <td>3.0</td>\n",
       "      <td>2497.0</td>\n",
       "      <td>832.0</td>\n",
       "      <td>4.0</td>\n",
       "      <td>0.0</td>\n",
       "      <td>159.0</td>\n",
       "      <td>45.0</td>\n",
       "      <td>19.0</td>\n",
       "      <td>NaN</td>\n",
       "      <td>NaN</td>\n",
       "      <td>NO</td>\n",
       "      <td>18</td>\n",
       "      <td>On net 200F=Unlimited _call24H</td>\n",
       "      <td>3.0</td>\n",
       "      <td>0</td>\n",
       "    </tr>\n",
       "    <tr>\n",
       "      <th>4</th>\n",
       "      <td>ec45e1a1888a32b5dcce0954cfec20c6e037db31</td>\n",
       "      <td>FATICK</td>\n",
       "      <td>K &gt; 24 month</td>\n",
       "      <td>NaN</td>\n",
       "      <td>NaN</td>\n",
       "      <td>498.0</td>\n",
       "      <td>166.0</td>\n",
       "      <td>3.0</td>\n",
       "      <td>1.0</td>\n",
       "      <td>1.0</td>\n",
       "      <td>3.0</td>\n",
       "      <td>NaN</td>\n",
       "      <td>NaN</td>\n",
       "      <td>NaN</td>\n",
       "      <td>NO</td>\n",
       "      <td>50</td>\n",
       "      <td>NaN</td>\n",
       "      <td>NaN</td>\n",
       "      <td>0</td>\n",
       "    </tr>\n",
       "  </tbody>\n",
       "</table>\n",
       "</div>"
      ],
      "text/plain": [
       "                                    user_id       REGION        TENURE  \\\n",
       "0  dcf68cc2fb515ccad7d8b9b3bd80ee2a4b270063  SAINT-LOUIS  K > 24 month   \n",
       "1  71c44b5ba328db5c4192a80f7cf8f244d9350ed0          NaN  K > 24 month   \n",
       "2  ce46411b1526c94f20a383b8cb188f8d27f82a0a  TAMBACOUNDA  K > 24 month   \n",
       "3  f467cdb6669818373c26c2bad44e01ba66f97d21       FATICK  K > 24 month   \n",
       "4  ec45e1a1888a32b5dcce0954cfec20c6e037db31       FATICK  K > 24 month   \n",
       "\n",
       "   MONTANT  FREQUENCE_RECH  REVENUE  ARPU_SEGMENT  FREQUENCE  DATA_VOLUME  \\\n",
       "0  17000.0            32.0  18000.0        6000.0       34.0          NaN   \n",
       "1   4300.0            29.0   4427.0        1476.0       37.0       1764.0   \n",
       "2   1500.0             3.0   1500.0         500.0        3.0          NaN   \n",
       "3   1500.0             3.0   2497.0         832.0        4.0          0.0   \n",
       "4      NaN             NaN    498.0         166.0        3.0          1.0   \n",
       "\n",
       "   ON_NET  ORANGE  TIGO  ZONE1  ZONE2 MRG  REGULARITY  \\\n",
       "0    97.0   355.0   6.0    NaN    NaN  NO          62   \n",
       "1     8.0     3.0   0.0    NaN    2.0  NO          40   \n",
       "2    30.0    30.0   NaN    NaN    NaN  NO          32   \n",
       "3   159.0    45.0  19.0    NaN    NaN  NO          18   \n",
       "4     1.0     3.0   NaN    NaN    NaN  NO          50   \n",
       "\n",
       "                         TOP_PACK  FREQ_TOP_PACK  CHURN  \n",
       "0           All-net 500F=2000F;5d           35.0      0  \n",
       "1            Data: 100 F=40MB,24H           22.0      0  \n",
       "2           All-net 500F=2000F;5d            3.0      0  \n",
       "3  On net 200F=Unlimited _call24H            3.0      0  \n",
       "4                             NaN            NaN      0  "
      ]
     },
     "execution_count": 4,
     "metadata": {},
     "output_type": "execute_result"
    }
   ],
   "source": [
    "train.head()"
   ]
  },
  {
   "cell_type": "code",
   "execution_count": 5,
   "metadata": {
    "ExecuteTime": {
     "end_time": "2020-09-10T01:39:11.698763Z",
     "start_time": "2020-09-10T01:39:11.623720Z"
    }
   },
   "outputs": [
    {
     "data": {
      "text/plain": [
       "All-net 500F=2000F;5d                  58675\n",
       "On net 200F=Unlimited _call24H         28387\n",
       "Data:490F=1GB,7d                       21661\n",
       "Data: 100 F=40MB,24H                   15590\n",
       "Mixt 250F=Unlimited_call24H            12712\n",
       "                                       ...  \n",
       "NEW_CLIR_TEMPALLOWED_LIBERTE_MOBILE        1\n",
       "200=unlimited pilot auto                   1\n",
       "CVM_On-net 400f=2200F                      1\n",
       "pilot_offer6                               1\n",
       "Data:New-GPRS_PKG_1500F                    1\n",
       "Name: TOP_PACK, Length: 111, dtype: int64"
      ]
     },
     "execution_count": 5,
     "metadata": {},
     "output_type": "execute_result"
    }
   ],
   "source": [
    "train['TOP_PACK'].value_counts()"
   ]
  },
  {
   "cell_type": "code",
   "execution_count": 6,
   "metadata": {
    "ExecuteTime": {
     "end_time": "2020-09-10T01:39:11.969717Z",
     "start_time": "2020-09-10T01:39:11.845722Z"
    }
   },
   "outputs": [
    {
     "name": "stdout",
     "output_type": "stream",
     "text": [
      "<class 'pandas.core.frame.DataFrame'>\n",
      "RangeIndex: 400000 entries, 0 to 399999\n",
      "Data columns (total 19 columns):\n",
      "user_id           400000 non-null object\n",
      "REGION            242480 non-null object\n",
      "TENURE            400000 non-null object\n",
      "MONTANT           259723 non-null float64\n",
      "FREQUENCE_RECH    259723 non-null float64\n",
      "REVENUE           265337 non-null float64\n",
      "ARPU_SEGMENT      265337 non-null float64\n",
      "FREQUENCE         265337 non-null float64\n",
      "DATA_VOLUME       203146 non-null float64\n",
      "ON_NET            254181 non-null float64\n",
      "ORANGE            233683 non-null float64\n",
      "TIGO              160614 non-null float64\n",
      "ZONE1             31690 non-null float64\n",
      "ZONE2             25513 non-null float64\n",
      "MRG               400000 non-null object\n",
      "REGULARITY        400000 non-null int64\n",
      "TOP_PACK          232671 non-null object\n",
      "FREQ_TOP_PACK     232671 non-null float64\n",
      "CHURN             400000 non-null int64\n",
      "dtypes: float64(12), int64(2), object(5)\n",
      "memory usage: 58.0+ MB\n"
     ]
    }
   ],
   "source": [
    "train.info()"
   ]
  },
  {
   "cell_type": "code",
   "execution_count": 7,
   "metadata": {
    "ExecuteTime": {
     "end_time": "2020-09-10T01:39:12.424320Z",
     "start_time": "2020-09-10T01:39:12.376322Z"
    }
   },
   "outputs": [],
   "source": [
    "train.drop(['user_id', 'MRG'], axis=1, inplace=True)\n",
    "test.drop(['user_id', 'MRG'], axis=1, inplace=True)"
   ]
  },
  {
   "cell_type": "code",
   "execution_count": 8,
   "metadata": {
    "ExecuteTime": {
     "end_time": "2020-09-10T01:39:13.343534Z",
     "start_time": "2020-09-10T01:39:12.444322Z"
    }
   },
   "outputs": [],
   "source": [
    "from sklearn.base import BaseEstimator, TransformerMixin\n",
    "\n",
    "class DataFrameSelector(BaseEstimator, TransformerMixin):\n",
    "    def __init__(self, attribute_names):\n",
    "        self.attribute_names = attribute_names\n",
    "\n",
    "    def fit(self, X, y=None):\n",
    "        return self\n",
    "\n",
    "    def transform(self, X):\n",
    "        return X[self.attribute_names].values"
   ]
  },
  {
   "cell_type": "code",
   "execution_count": 9,
   "metadata": {
    "ExecuteTime": {
     "end_time": "2020-09-10T01:39:13.564543Z",
     "start_time": "2020-09-10T01:39:13.536501Z"
    }
   },
   "outputs": [
    {
     "data": {
      "text/plain": [
       "REGION            39293\n",
       "TENURE                0\n",
       "MONTANT           34951\n",
       "FREQUENCE_RECH    34951\n",
       "REVENUE           33490\n",
       "ARPU_SEGMENT      33490\n",
       "FREQUENCE         33490\n",
       "DATA_VOLUME       49338\n",
       "ON_NET            36383\n",
       "ORANGE            41200\n",
       "TIGO              59788\n",
       "ZONE1             92320\n",
       "ZONE2             93578\n",
       "REGULARITY            0\n",
       "TOP_PACK          41703\n",
       "FREQ_TOP_PACK     41703\n",
       "dtype: int64"
      ]
     },
     "execution_count": 9,
     "metadata": {},
     "output_type": "execute_result"
    }
   ],
   "source": [
    "test.isna().sum()"
   ]
  },
  {
   "cell_type": "markdown",
   "metadata": {},
   "source": [
    "# Fixing the missing catergorical values"
   ]
  },
  {
   "cell_type": "code",
   "execution_count": 10,
   "metadata": {
    "ExecuteTime": {
     "end_time": "2020-09-10T01:39:54.690914Z",
     "start_time": "2020-09-10T01:39:13.694506Z"
    }
   },
   "outputs": [],
   "source": [
    "from sklearn.impute import SimpleImputer\n",
    "\n",
    "\n",
    "miss = ['REGION', 'TOP_PACK']\n",
    "\n",
    "imp = SimpleImputer(strategy=\"most_frequent\")\n",
    "\n",
    "train['REGION'] = imp.fit_transform(np.array(train['REGION']).reshape(-1,1))\n"
   ]
  },
  {
   "cell_type": "code",
   "execution_count": 11,
   "metadata": {
    "ExecuteTime": {
     "end_time": "2020-09-10T01:43:40.992316Z",
     "start_time": "2020-09-10T01:39:54.804917Z"
    }
   },
   "outputs": [],
   "source": [
    "train['TOP_PACK'] = SimpleImputer(strategy=\"most_frequent\").fit_transform(np.array(train['TOP_PACK']).reshape(-1,1))"
   ]
  },
  {
   "cell_type": "code",
   "execution_count": 12,
   "metadata": {
    "ExecuteTime": {
     "end_time": "2020-09-10T01:43:41.645691Z",
     "start_time": "2020-09-10T01:43:41.093244Z"
    }
   },
   "outputs": [],
   "source": [
    "test['REGION'] = SimpleImputer(strategy=\"most_frequent\").fit_transform(np.array(test['REGION']).reshape(-1,1))"
   ]
  },
  {
   "cell_type": "code",
   "execution_count": 13,
   "metadata": {
    "ExecuteTime": {
     "end_time": "2020-09-10T01:43:48.742472Z",
     "start_time": "2020-09-10T01:43:41.728033Z"
    }
   },
   "outputs": [],
   "source": [
    "test['TOP_PACK'] = SimpleImputer(strategy=\"most_frequent\").fit_transform(np.array(test['TOP_PACK']).reshape(-1,1))"
   ]
  },
  {
   "cell_type": "code",
   "execution_count": 14,
   "metadata": {
    "ExecuteTime": {
     "end_time": "2020-09-10T01:43:48.885613Z",
     "start_time": "2020-09-10T01:43:48.855614Z"
    }
   },
   "outputs": [
    {
     "data": {
      "text/plain": [
       "REGION                0\n",
       "TENURE                0\n",
       "MONTANT           34951\n",
       "FREQUENCE_RECH    34951\n",
       "REVENUE           33490\n",
       "ARPU_SEGMENT      33490\n",
       "FREQUENCE         33490\n",
       "DATA_VOLUME       49338\n",
       "ON_NET            36383\n",
       "ORANGE            41200\n",
       "TIGO              59788\n",
       "ZONE1             92320\n",
       "ZONE2             93578\n",
       "REGULARITY            0\n",
       "TOP_PACK              0\n",
       "FREQ_TOP_PACK     41703\n",
       "dtype: int64"
      ]
     },
     "execution_count": 14,
     "metadata": {},
     "output_type": "execute_result"
    }
   ],
   "source": [
    "test.isna().sum()"
   ]
  },
  {
   "cell_type": "code",
   "execution_count": 15,
   "metadata": {
    "ExecuteTime": {
     "end_time": "2020-09-10T01:43:49.107776Z",
     "start_time": "2020-09-10T01:43:48.970616Z"
    }
   },
   "outputs": [],
   "source": [
    "# PIPELINE\n",
    "from sklearn.impute import SimpleImputer\n",
    "from sklearn.preprocessing import OrdinalEncoder, OneHotEncoder, StandardScaler\n",
    "from sklearn.pipeline import Pipeline, FeatureUnion\n",
    "\n",
    "cat = ['REGION', 'TENURE', 'TOP_PACK']\n",
    "\n",
    "num = [\n",
    "    'MONTANT', 'FREQUENCE_RECH', 'REVENUE', 'ARPU_SEGMENT', 'FREQUENCE',\n",
    "    'DATA_VOLUME', 'ON_NET', 'ORANGE', 'TIGO', 'ZONE1', 'ZONE2', 'REGULARITY',\n",
    "    'FREQ_TOP_PACK'\n",
    "]\n",
    "\n",
    "num_pipeline = Pipeline([('selector', DataFrameSelector(num)),\n",
    "                         ('imputer', SimpleImputer(strategy='median')),\n",
    "                         ('scaler', StandardScaler())])\n",
    "\n",
    "cat_pipeline = Pipeline([\n",
    "    ('selector', DataFrameSelector(cat)),\n",
    "    ('encoder', OneHotEncoder(sparse=False)),\n",
    "    #('poly', PolynomialFeatures(include_bias=False)),\n",
    "])\n",
    "\n",
    "full_pipeline = FeatureUnion([('num_pipeline', num_pipeline),\n",
    "                              ('cat_pipeline', cat_pipeline)],\n",
    "                             n_jobs=-1)"
   ]
  },
  {
   "cell_type": "code",
   "execution_count": 67,
   "metadata": {
    "ExecuteTime": {
     "end_time": "2020-09-10T02:38:43.363068Z",
     "start_time": "2020-09-10T02:38:43.115300Z"
    }
   },
   "outputs": [],
   "source": [
    "X = train.drop('CHURN', axis=1)\n",
    "y = train['CHURN']"
   ]
  },
  {
   "cell_type": "code",
   "execution_count": 68,
   "metadata": {
    "ExecuteTime": {
     "end_time": "2020-09-10T02:38:45.875588Z",
     "start_time": "2020-09-10T02:38:43.583267Z"
    }
   },
   "outputs": [
    {
     "data": {
      "image/png": "[encoded data removed]",
      "text/plain": [
       "<Figure size 720x720 with 16 Axes>"
      ]
     },
     "metadata": {
      "needs_background": "light"
     },
     "output_type": "display_data"
    }
   ],
   "source": [
    "train[num].plot(kind='box', subplots=True, layout=(4,4), sharex=False, sharey = False, figsize=(10,10))\n",
    "plt.tight_layout(pad=3.0, h_pad=3.0, w_pad=3.0)\n",
    "plt.show()"
   ]
  },
  {
   "cell_type": "code",
   "execution_count": 69,
   "metadata": {
    "ExecuteTime": {
     "end_time": "2020-09-10T02:38:53.036346Z",
     "start_time": "2020-09-10T02:38:46.107442Z"
    }
   },
   "outputs": [],
   "source": [
    "# Running throu the pipeline\n",
    "X = full_pipeline.fit_transform(X)\n",
    "# Using stratified shuffle fold\n",
    "from sklearn.model_selection import StratifiedShuffleSplit\n",
    "\n",
    "ss = StratifiedShuffleSplit(n_splits=1, test_size=0.2, random_state=42)\n",
    "\n",
    "for train_index, test_index in ss.split(X, y):\n",
    "    X_train, X_test = X[train_index], X[test_index]\n",
    "    y_train, y_test = y[train_index], y[test_index]"
   ]
  },
  {
   "cell_type": "code",
   "execution_count": 70,
   "metadata": {
    "ExecuteTime": {
     "end_time": "2020-09-10T02:38:53.291933Z",
     "start_time": "2020-09-10T02:38:53.277932Z"
    }
   },
   "outputs": [],
   "source": [
    "#from sklearn.ensemble import IsolationForest\n",
    "#iso = IsolationForest(verbose=10, contamination=0.25)\n",
    "#check = iso.fit_predict(X_train)\n",
    "#mask = check != 1\n",
    "#X_train, y_train = X_train[mask, :], y_train[mask]"
   ]
  },
  {
   "cell_type": "code",
   "execution_count": 71,
   "metadata": {
    "ExecuteTime": {
     "end_time": "2020-09-10T02:38:53.496933Z",
     "start_time": "2020-09-10T02:38:53.485934Z"
    }
   },
   "outputs": [],
   "source": [
    "#from imblearn.over_sampling import SMOTE\n",
    "\n",
    "#X_t, y_t = SMOTE(random_state=42, n_jobs=-1).fit_resample(X_train, y_train)\n",
    "\n",
    "\n",
    "#X_t.shape, y_t.shape\n",
    "#X_train.shape, y_train.shape"
   ]
  },
  {
   "cell_type": "code",
   "execution_count": 76,
   "metadata": {
    "ExecuteTime": {
     "end_time": "2020-09-10T02:41:30.220057Z",
     "start_time": "2020-09-10T02:41:21.961449Z"
    },
    "scrolled": true
   },
   "outputs": [
    {
     "name": "stderr",
     "output_type": "stream",
     "text": [
      "[Parallel(n_jobs=-1)]: Using backend LokyBackend with 4 concurrent workers.\n"
     ]
    },
    {
     "name": "stdout",
     "output_type": "stream",
     "text": [
      "[0.289082   0.28954517 0.28840579]\n"
     ]
    },
    {
     "name": "stderr",
     "output_type": "stream",
     "text": [
      "[Parallel(n_jobs=-1)]: Done   3 out of   3 | elapsed:    7.7s remaining:    0.0s\n",
      "[Parallel(n_jobs=-1)]: Done   3 out of   3 | elapsed:    7.7s finished\n"
     ]
    }
   ],
   "source": [
    "# Using Cross Validation and SGD Classifier\n",
    "np.random.seed(42)\n",
    "from sklearn.model_selection import cross_val_score\n",
    "from sklearn.linear_model import SGDClassifier\n",
    "\n",
    "sgd = SGDClassifier(l1_ratio=0,\n",
    "                    #penalty=None,\n",
    "                    loss='log',\n",
    "                    n_jobs=-1,\n",
    "                    max_iter=500,\n",
    "                    tol=0.001,\n",
    "                    alpha=0.0001,\n",
    "                    warm_start=False, verbose=10)\n",
    "\n",
    "cv = cross_val_score(sgd,\n",
    "                     X_train,\n",
    "                     y_train,\n",
    "                     cv=3,\n",
    "                     scoring='neg_log_loss',\n",
    "                     n_jobs=-1,\n",
    "                     verbose=10)\n",
    "print(-cv)"
   ]
  },
  {
   "cell_type": "code",
   "execution_count": 93,
   "metadata": {
    "ExecuteTime": {
     "end_time": "2020-09-10T03:03:01.473322Z",
     "start_time": "2020-09-10T03:02:58.764854Z"
    }
   },
   "outputs": [
    {
     "name": "stdout",
     "output_type": "stream",
     "text": [
      "-- Epoch 1\n",
      "Norm: 3.13, NNZs: 143, Bias: -4.451938, T: 288000, Avg. loss: 0.267531\n",
      "Total training time: 0.15 seconds.\n",
      "-- Epoch 2\n",
      "Norm: 3.13, NNZs: 143, Bias: -4.369326, T: 576000, Avg. loss: 0.260078\n",
      "Total training time: 0.48 seconds.\n",
      "-- Epoch 3\n",
      "Norm: 3.14, NNZs: 143, Bias: -4.337974, T: 864000, Avg. loss: 0.259842\n",
      "Total training time: 0.84 seconds.\n",
      "-- Epoch 4\n",
      "Norm: 3.15, NNZs: 143, Bias: -4.320417, T: 1152000, Avg. loss: 0.259745\n",
      "Total training time: 1.16 seconds.\n",
      "-- Epoch 5\n",
      "Norm: 3.15, NNZs: 143, Bias: -4.309004, T: 1440000, Avg. loss: 0.259694\n",
      "Total training time: 1.48 seconds.\n",
      "-- Epoch 6\n",
      "Norm: 3.15, NNZs: 143, Bias: -4.300905, T: 1728000, Avg. loss: 0.259661\n",
      "Total training time: 1.82 seconds.\n",
      "Convergence after 6 epochs took 1.97 seconds\n",
      "              precision    recall  f1-score   support\n",
      "\n",
      "           0       0.92      0.91      0.92     65031\n",
      "           1       0.64      0.67      0.66     14969\n",
      "\n",
      "    accuracy                           0.87     80000\n",
      "   macro avg       0.78      0.79      0.79     80000\n",
      "weighted avg       0.87      0.87      0.87     80000\n",
      "\n"
     ]
    }
   ],
   "source": [
    "from sklearn.linear_model import SGDClassifier\n",
    "from sklearn.metrics import classification_report\n",
    "\n",
    "sgd2 = SGDClassifier(l1_ratio=1,\n",
    "                    #penalty=None,\n",
    "                    loss='log',\n",
    "                    n_jobs=-1,\n",
    "                    shuffle=False,\n",
    "                    max_iter=100,\n",
    "                    tol=0.01,\n",
    "                    alpha=0.001,\n",
    "                    warm_start=True,verbose=20, early_stopping=True)\n",
    "\n",
    "sgd2.fit(X_train, y_train)\n",
    "predz = sgd2.predict(X_test)\n",
    "\n",
    "print(classification_report(y_test, predz))"
   ]
  },
  {
   "cell_type": "code",
   "execution_count": 78,
   "metadata": {
    "ExecuteTime": {
     "end_time": "2020-09-10T02:41:59.468594Z",
     "start_time": "2020-09-10T02:41:59.441601Z"
    }
   },
   "outputs": [
    {
     "data": {
      "text/plain": [
       "0    65031\n",
       "1    14969\n",
       "Name: CHURN, dtype: int64"
      ]
     },
     "execution_count": 78,
     "metadata": {},
     "output_type": "execute_result"
    }
   ],
   "source": [
    "y_test.value_counts()"
   ]
  },
  {
   "cell_type": "code",
   "execution_count": null,
   "metadata": {},
   "outputs": [],
   "source": []
  },
  {
   "cell_type": "code",
   "execution_count": null,
   "metadata": {},
   "outputs": [],
   "source": []
  },
  {
   "cell_type": "code",
   "execution_count": 275,
   "metadata": {
    "ExecuteTime": {
     "end_time": "2020-09-09T20:37:57.595790Z",
     "start_time": "2020-09-09T20:37:57.284569Z"
    }
   },
   "outputs": [
    {
     "name": "stdout",
     "output_type": "stream",
     "text": [
      "[name: \"/device:CPU:0\"\n",
      "device_type: \"CPU\"\n",
      "memory_limit: 268435456\n",
      "locality {\n",
      "}\n",
      "incarnation: 4797545758064693143\n",
      ", name: \"/device:GPU:0\"\n",
      "device_type: \"GPU\"\n",
      "memory_limit: 1416435918\n",
      "locality {\n",
      "  bus_id: 1\n",
      "  links {\n",
      "  }\n",
      "}\n",
      "incarnation: 10681079989524070633\n",
      "physical_device_desc: \"device: 0, name: GeForce MX150, pci bus id: 0000:01:00.0, compute capability: 6.1\"\n",
      "]\n"
     ]
    }
   ],
   "source": [
    "import tensorflow as tf\n",
    "import tensorflow.keras as keras\n",
    "from tensorflow.keras.layers import Dense, BatchNormalization, Dropout\n",
    "from tensorflow.keras.models import Sequential\n",
    "\n",
    "from tensorflow.python.client import device_lib \n",
    "\n",
    "np.random.seed(42)\n",
    "print(device_lib.list_local_devices())"
   ]
  },
  {
   "cell_type": "code",
   "execution_count": 356,
   "metadata": {
    "ExecuteTime": {
     "end_time": "2020-09-09T23:26:32.909827Z",
     "start_time": "2020-09-09T23:26:32.447583Z"
    },
    "scrolled": true
   },
   "outputs": [],
   "source": [
    "tfmodel = Sequential()\n",
    "tfmodel.add(Dense(16, input_dim=146, activation='sigmoid'))\n",
    "tfmodel.add(BatchNormalization())\n",
    "\n",
    "tfmodel.add(Dense(8, activation='sigmoid'))\n",
    "tfmodel.add(BatchNormalization())\n",
    "\n",
    "tfmodel.add(Dense(8, activation='sigmoid'))\n",
    "tfmodel.add(BatchNormalization())\n",
    "\n",
    "tfmodel.add(Dense(8, activation='sigmoid'))\n",
    "tfmodel.add(BatchNormalization())\n",
    "\n",
    "tfmodel.add(Dense(2, activation='sigmoid'))\n",
    "\n"
   ]
  },
  {
   "cell_type": "code",
   "execution_count": 357,
   "metadata": {
    "ExecuteTime": {
     "end_time": "2020-09-09T23:26:35.846999Z",
     "start_time": "2020-09-09T23:26:35.630430Z"
    }
   },
   "outputs": [],
   "source": [
    "tfmodel.compile(optimizer=keras.optimizers.Adam(),\n",
    "                loss=keras.losses.binary_crossentropy, metrics=['accuracy'])"
   ]
  },
  {
   "cell_type": "code",
   "execution_count": 358,
   "metadata": {
    "ExecuteTime": {
     "end_time": "2020-09-09T23:26:37.016663Z",
     "start_time": "2020-09-09T23:26:37.004708Z"
    }
   },
   "outputs": [
    {
     "name": "stdout",
     "output_type": "stream",
     "text": [
      "Model: \"sequential_67\"\n",
      "_________________________________________________________________\n",
      "Layer (type)                 Output Shape              Param #   \n",
      "=================================================================\n",
      "dense_300 (Dense)            (None, 16)                2352      \n",
      "_________________________________________________________________\n",
      "batch_normalization_110 (Bat (None, 16)                64        \n",
      "_________________________________________________________________\n",
      "dense_301 (Dense)            (None, 8)                 136       \n",
      "_________________________________________________________________\n",
      "batch_normalization_111 (Bat (None, 8)                 32        \n",
      "_________________________________________________________________\n",
      "dense_302 (Dense)            (None, 8)                 72        \n",
      "_________________________________________________________________\n",
      "batch_normalization_112 (Bat (None, 8)                 32        \n",
      "_________________________________________________________________\n",
      "dense_303 (Dense)            (None, 8)                 72        \n",
      "_________________________________________________________________\n",
      "batch_normalization_113 (Bat (None, 8)                 32        \n",
      "_________________________________________________________________\n",
      "dense_304 (Dense)            (None, 2)                 18        \n",
      "=================================================================\n",
      "Total params: 2,810\n",
      "Trainable params: 2,730\n",
      "Non-trainable params: 80\n",
      "_________________________________________________________________\n"
     ]
    }
   ],
   "source": [
    "tfmodel.summary()"
   ]
  },
  {
   "cell_type": "code",
   "execution_count": 343,
   "metadata": {
    "ExecuteTime": {
     "end_time": "2020-09-09T22:50:27.962552Z",
     "start_time": "2020-09-09T22:49:20.465138Z"
    }
   },
   "outputs": [
    {
     "name": "stderr",
     "output_type": "stream",
     "text": [
      "[Parallel(n_jobs=1)]: Using backend SequentialBackend with 1 concurrent workers.\n"
     ]
    },
    {
     "name": "stdout",
     "output_type": "stream",
     "text": [
      "Building estimator 1 of 100 for this parallel run (total 100)...\n",
      "Building estimator 2 of 100 for this parallel run (total 100)...\n",
      "Building estimator 3 of 100 for this parallel run (total 100)...\n",
      "Building estimator 4 of 100 for this parallel run (total 100)...\n",
      "Building estimator 5 of 100 for this parallel run (total 100)...\n",
      "Building estimator 6 of 100 for this parallel run (total 100)...\n",
      "Building estimator 7 of 100 for this parallel run (total 100)...\n",
      "Building estimator 8 of 100 for this parallel run (total 100)...\n",
      "Building estimator 9 of 100 for this parallel run (total 100)...\n",
      "Building estimator 10 of 100 for this parallel run (total 100)...\n",
      "Building estimator 11 of 100 for this parallel run (total 100)...\n",
      "Building estimator 12 of 100 for this parallel run (total 100)...\n",
      "Building estimator 13 of 100 for this parallel run (total 100)...\n",
      "Building estimator 14 of 100 for this parallel run (total 100)...\n",
      "Building estimator 15 of 100 for this parallel run (total 100)...\n",
      "Building estimator 16 of 100 for this parallel run (total 100)...\n",
      "Building estimator 17 of 100 for this parallel run (total 100)...\n",
      "Building estimator 18 of 100 for this parallel run (total 100)...\n",
      "Building estimator 19 of 100 for this parallel run (total 100)...\n",
      "Building estimator 20 of 100 for this parallel run (total 100)...\n",
      "Building estimator 21 of 100 for this parallel run (total 100)...\n",
      "Building estimator 22 of 100 for this parallel run (total 100)...\n",
      "Building estimator 23 of 100 for this parallel run (total 100)...\n",
      "Building estimator 24 of 100 for this parallel run (total 100)...\n",
      "Building estimator 25 of 100 for this parallel run (total 100)...\n",
      "Building estimator 26 of 100 for this parallel run (total 100)...\n",
      "Building estimator 27 of 100 for this parallel run (total 100)...\n",
      "Building estimator 28 of 100 for this parallel run (total 100)...\n",
      "Building estimator 29 of 100 for this parallel run (total 100)...\n",
      "Building estimator 30 of 100 for this parallel run (total 100)...\n",
      "Building estimator 31 of 100 for this parallel run (total 100)...\n",
      "Building estimator 32 of 100 for this parallel run (total 100)...\n",
      "Building estimator 33 of 100 for this parallel run (total 100)...\n",
      "Building estimator 34 of 100 for this parallel run (total 100)...\n",
      "Building estimator 35 of 100 for this parallel run (total 100)...\n",
      "Building estimator 36 of 100 for this parallel run (total 100)...\n",
      "Building estimator 37 of 100 for this parallel run (total 100)...\n",
      "Building estimator 38 of 100 for this parallel run (total 100)...\n",
      "Building estimator 39 of 100 for this parallel run (total 100)...\n",
      "Building estimator 40 of 100 for this parallel run (total 100)...\n",
      "Building estimator 41 of 100 for this parallel run (total 100)...\n",
      "Building estimator 42 of 100 for this parallel run (total 100)...\n",
      "Building estimator 43 of 100 for this parallel run (total 100)...\n",
      "Building estimator 44 of 100 for this parallel run (total 100)...\n",
      "Building estimator 45 of 100 for this parallel run (total 100)...\n",
      "Building estimator 46 of 100 for this parallel run (total 100)...\n",
      "Building estimator 47 of 100 for this parallel run (total 100)...\n",
      "Building estimator 48 of 100 for this parallel run (total 100)...\n",
      "Building estimator 49 of 100 for this parallel run (total 100)...\n",
      "Building estimator 50 of 100 for this parallel run (total 100)...\n",
      "Building estimator 51 of 100 for this parallel run (total 100)...\n",
      "Building estimator 52 of 100 for this parallel run (total 100)...\n",
      "Building estimator 53 of 100 for this parallel run (total 100)...\n",
      "Building estimator 54 of 100 for this parallel run (total 100)...\n",
      "Building estimator 55 of 100 for this parallel run (total 100)...\n",
      "Building estimator 56 of 100 for this parallel run (total 100)...\n",
      "Building estimator 57 of 100 for this parallel run (total 100)...\n",
      "Building estimator 58 of 100 for this parallel run (total 100)...\n",
      "Building estimator 59 of 100 for this parallel run (total 100)...\n",
      "Building estimator 60 of 100 for this parallel run (total 100)...\n",
      "Building estimator 61 of 100 for this parallel run (total 100)...\n",
      "Building estimator 62 of 100 for this parallel run (total 100)...\n",
      "Building estimator 63 of 100 for this parallel run (total 100)...\n",
      "Building estimator 64 of 100 for this parallel run (total 100)...\n",
      "Building estimator 65 of 100 for this parallel run (total 100)...\n",
      "Building estimator 66 of 100 for this parallel run (total 100)...\n",
      "Building estimator 67 of 100 for this parallel run (total 100)...\n",
      "Building estimator 68 of 100 for this parallel run (total 100)...\n",
      "Building estimator 69 of 100 for this parallel run (total 100)...\n",
      "Building estimator 70 of 100 for this parallel run (total 100)...\n",
      "Building estimator 71 of 100 for this parallel run (total 100)...\n",
      "Building estimator 72 of 100 for this parallel run (total 100)...\n",
      "Building estimator 73 of 100 for this parallel run (total 100)...\n",
      "Building estimator 74 of 100 for this parallel run (total 100)...\n",
      "Building estimator 75 of 100 for this parallel run (total 100)...\n",
      "Building estimator 76 of 100 for this parallel run (total 100)...\n",
      "Building estimator 77 of 100 for this parallel run (total 100)...\n",
      "Building estimator 78 of 100 for this parallel run (total 100)...\n",
      "Building estimator 79 of 100 for this parallel run (total 100)...\n",
      "Building estimator 80 of 100 for this parallel run (total 100)...\n",
      "Building estimator 81 of 100 for this parallel run (total 100)...\n",
      "Building estimator 82 of 100 for this parallel run (total 100)...\n",
      "Building estimator 83 of 100 for this parallel run (total 100)...\n",
      "Building estimator 84 of 100 for this parallel run (total 100)...\n",
      "Building estimator 85 of 100 for this parallel run (total 100)...\n",
      "Building estimator 86 of 100 for this parallel run (total 100)...\n",
      "Building estimator 87 of 100 for this parallel run (total 100)...\n",
      "Building estimator 88 of 100 for this parallel run (total 100)...\n",
      "Building estimator 89 of 100 for this parallel run (total 100)...\n",
      "Building estimator 90 of 100 for this parallel run (total 100)...\n",
      "Building estimator 91 of 100 for this parallel run (total 100)...\n",
      "Building estimator 92 of 100 for this parallel run (total 100)...\n",
      "Building estimator 93 of 100 for this parallel run (total 100)...\n",
      "Building estimator 94 of 100 for this parallel run (total 100)...\n",
      "Building estimator 95 of 100 for this parallel run (total 100)...\n",
      "Building estimator 96 of 100 for this parallel run (total 100)...\n",
      "Building estimator 97 of 100 for this parallel run (total 100)...\n",
      "Building estimator 98 of 100 for this parallel run (total 100)...\n",
      "Building estimator 99 of 100 for this parallel run (total 100)...\n",
      "Building estimator 100 of 100 for this parallel run (total 100)...\n"
     ]
    },
    {
     "name": "stderr",
     "output_type": "stream",
     "text": [
      "[Parallel(n_jobs=1)]: Done   1 out of   1 | elapsed:   38.0s remaining:    0.0s\n",
      "[Parallel(n_jobs=1)]: Done   1 out of   1 | elapsed:   38.0s finished\n"
     ]
    },
    {
     "ename": "IndexError",
     "evalue": "invalid index to scalar variable.",
     "output_type": "error",
     "traceback": [
      "\u001b[1;31m---------------------------------------------------------------------------\u001b[0m",
      "\u001b[1;31mIndexError\u001b[0m                                Traceback (most recent call last)",
      "\u001b[1;32m<ipython-input-343-666a9138a8fb>\u001b[0m in \u001b[0;36m<module>\u001b[1;34m\u001b[0m\n\u001b[0;32m      5\u001b[0m \u001b[0mcheck\u001b[0m \u001b[1;33m=\u001b[0m \u001b[0miso\u001b[0m\u001b[1;33m.\u001b[0m\u001b[0mfit_predict\u001b[0m\u001b[1;33m(\u001b[0m\u001b[0mX\u001b[0m\u001b[1;33m)\u001b[0m\u001b[1;33m\u001b[0m\u001b[1;33m\u001b[0m\u001b[0m\n\u001b[0;32m      6\u001b[0m \u001b[0mmask\u001b[0m \u001b[1;33m=\u001b[0m \u001b[0mcheck\u001b[0m \u001b[1;33m!=\u001b[0m \u001b[1;36m1\u001b[0m\u001b[1;33m\u001b[0m\u001b[1;33m\u001b[0m\u001b[0m\n\u001b[1;32m----> 7\u001b[1;33m \u001b[0mX\u001b[0m\u001b[1;33m,\u001b[0m \u001b[0my\u001b[0m \u001b[1;33m=\u001b[0m \u001b[0mX\u001b[0m\u001b[1;33m[\u001b[0m\u001b[0mmask\u001b[0m\u001b[1;33m,\u001b[0m \u001b[1;33m:\u001b[0m\u001b[1;33m]\u001b[0m\u001b[1;33m,\u001b[0m \u001b[0my\u001b[0m\u001b[1;33m[\u001b[0m\u001b[0mmask\u001b[0m\u001b[1;33m]\u001b[0m\u001b[1;33m\u001b[0m\u001b[1;33m\u001b[0m\u001b[0m\n\u001b[0m\u001b[0;32m      8\u001b[0m \u001b[1;33m\u001b[0m\u001b[0m\n\u001b[0;32m      9\u001b[0m \u001b[1;31m#from keras.utils.np_utils import to_categorical\u001b[0m\u001b[1;33m\u001b[0m\u001b[1;33m\u001b[0m\u001b[1;33m\u001b[0m\u001b[0m\n",
      "\u001b[1;31mIndexError\u001b[0m: invalid index to scalar variable."
     ]
    }
   ],
   "source": [
    "#X = X.toarray()\n",
    "from imblearn.over_sampling import \n",
    "\n",
    "\n",
    "\n",
    "#from keras.utils.np_utils import to_categorical\n",
    "y_train = to_categorical(y)\n",
    "\n",
    "tfmodel.fit(X_train, y_train, epochs=5, batch_size=64, validation_split=0.2)"
   ]
  },
  {
   "cell_type": "code",
   "execution_count": 329,
   "metadata": {
    "ExecuteTime": {
     "end_time": "2020-09-09T21:46:00.885155Z",
     "start_time": "2020-09-09T21:46:00.439431Z"
    }
   },
   "outputs": [
    {
     "name": "stdout",
     "output_type": "stream",
     "text": [
      "[[0.993472   0.00562817]\n",
      " [0.93247694 0.07596904]\n",
      " [0.53556246 0.46196744]\n",
      " ...\n",
      " [0.97212243 0.03186739]\n",
      " [0.8752793  0.12836151]\n",
      " [0.80098695 0.2002085 ]]\n"
     ]
    }
   ],
   "source": [
    "predt = tfmodel.predict(X_test)\n",
    "\n",
    "print(classification_report())"
   ]
  },
  {
   "cell_type": "code",
   "execution_count": null,
   "metadata": {},
   "outputs": [],
   "source": []
  },
  {
   "cell_type": "code",
   "execution_count": 304,
   "metadata": {
    "ExecuteTime": {
     "end_time": "2020-09-09T21:15:30.854128Z",
     "start_time": "2020-09-09T21:15:30.763134Z"
    }
   },
   "outputs": [],
   "source": [
    "# Using polynomial features\n",
    "\n",
    "X = train.drop('CHURN', axis=1)\n",
    "y = train['CHURN']\n",
    "\n",
    "from sklearn.preprocessing import PolynomialFeatures\n",
    "from sklearn.linear_model import LinearRegression\n",
    "\n",
    "lmodel = LinearRegression(n_jobs=-1)\n"
   ]
  },
  {
   "cell_type": "code",
   "execution_count": 305,
   "metadata": {
    "ExecuteTime": {
     "end_time": "2020-09-09T21:15:43.501070Z",
     "start_time": "2020-09-09T21:15:32.183023Z"
    }
   },
   "outputs": [],
   "source": [
    "num_pipeline = Pipeline([('selector', DataFrameSelector(num)),\n",
    "                         ('imputer', SimpleImputer(strategy='median')),\n",
    "                         ('poly', PolynomialFeatures(include_bias= False)),\n",
    "                         ('scaler', StandardScaler())])\n",
    "\n",
    "cat_pipeline = Pipeline([('selector', DataFrameSelector(cat)),\n",
    "                         ('encoder', OneHotEncoder())])\n",
    "\n",
    "full_pipeline = FeatureUnion([('num_pipeline', num_pipeline),\n",
    "                              ('cat_pipeline', cat_pipeline)], n_jobs=-1)\n",
    "\n",
    "X = full_pipeline.fit_transform(X)\n",
    "\n",
    "ss = StratifiedShuffleSplit(n_splits=1, test_size=0.2, random_state=42)\n",
    "\n",
    "for train_index, test_index in ss.split(X, y):\n",
    "    X_train, X_test = X[train_index], X[test_index]\n",
    "    y_train, y_test = y[train_index], y[test_index]"
   ]
  },
  {
   "cell_type": "code",
   "execution_count": 306,
   "metadata": {
    "ExecuteTime": {
     "end_time": "2020-09-09T21:16:51.066224Z",
     "start_time": "2020-09-09T21:16:07.138777Z"
    }
   },
   "outputs": [
    {
     "ename": "ValueError",
     "evalue": "Classification metrics can't handle a mix of binary and continuous targets",
     "output_type": "error",
     "traceback": [
      "\u001b[1;31m---------------------------------------------------------------------------\u001b[0m",
      "\u001b[1;31mValueError\u001b[0m                                Traceback (most recent call last)",
      "\u001b[1;32m<ipython-input-306-d2789777c0b8>\u001b[0m in \u001b[0;36m<module>\u001b[1;34m\u001b[0m\n\u001b[0;32m      3\u001b[0m \u001b[0mpred\u001b[0m \u001b[1;33m=\u001b[0m \u001b[0mlmodel\u001b[0m\u001b[1;33m.\u001b[0m\u001b[0mpredict\u001b[0m\u001b[1;33m(\u001b[0m\u001b[0mX_test\u001b[0m\u001b[1;33m)\u001b[0m\u001b[1;33m\u001b[0m\u001b[1;33m\u001b[0m\u001b[0m\n\u001b[0;32m      4\u001b[0m \u001b[1;33m\u001b[0m\u001b[0m\n\u001b[1;32m----> 5\u001b[1;33m \u001b[0mprint\u001b[0m\u001b[1;33m(\u001b[0m\u001b[0mclassification_report\u001b[0m\u001b[1;33m(\u001b[0m\u001b[0my_test\u001b[0m\u001b[1;33m,\u001b[0m \u001b[0mpred\u001b[0m\u001b[1;33m)\u001b[0m\u001b[1;33m)\u001b[0m\u001b[1;33m\u001b[0m\u001b[1;33m\u001b[0m\u001b[0m\n\u001b[0m",
      "\u001b[1;32m~\\anaconda3\\envs\\tf_gpu\\lib\\site-packages\\sklearn\\utils\\validation.py\u001b[0m in \u001b[0;36minner_f\u001b[1;34m(*args, **kwargs)\u001b[0m\n\u001b[0;32m     71\u001b[0m                           FutureWarning)\n\u001b[0;32m     72\u001b[0m         \u001b[0mkwargs\u001b[0m\u001b[1;33m.\u001b[0m\u001b[0mupdate\u001b[0m\u001b[1;33m(\u001b[0m\u001b[1;33m{\u001b[0m\u001b[0mk\u001b[0m\u001b[1;33m:\u001b[0m \u001b[0marg\u001b[0m \u001b[1;32mfor\u001b[0m \u001b[0mk\u001b[0m\u001b[1;33m,\u001b[0m \u001b[0marg\u001b[0m \u001b[1;32min\u001b[0m \u001b[0mzip\u001b[0m\u001b[1;33m(\u001b[0m\u001b[0msig\u001b[0m\u001b[1;33m.\u001b[0m\u001b[0mparameters\u001b[0m\u001b[1;33m,\u001b[0m \u001b[0margs\u001b[0m\u001b[1;33m)\u001b[0m\u001b[1;33m}\u001b[0m\u001b[1;33m)\u001b[0m\u001b[1;33m\u001b[0m\u001b[1;33m\u001b[0m\u001b[0m\n\u001b[1;32m---> 73\u001b[1;33m         \u001b[1;32mreturn\u001b[0m \u001b[0mf\u001b[0m\u001b[1;33m(\u001b[0m\u001b[1;33m**\u001b[0m\u001b[0mkwargs\u001b[0m\u001b[1;33m)\u001b[0m\u001b[1;33m\u001b[0m\u001b[1;33m\u001b[0m\u001b[0m\n\u001b[0m\u001b[0;32m     74\u001b[0m     \u001b[1;32mreturn\u001b[0m \u001b[0minner_f\u001b[0m\u001b[1;33m\u001b[0m\u001b[1;33m\u001b[0m\u001b[0m\n\u001b[0;32m     75\u001b[0m \u001b[1;33m\u001b[0m\u001b[0m\n",
      "\u001b[1;32m~\\anaconda3\\envs\\tf_gpu\\lib\\site-packages\\sklearn\\metrics\\_classification.py\u001b[0m in \u001b[0;36mclassification_report\u001b[1;34m(y_true, y_pred, labels, target_names, sample_weight, digits, output_dict, zero_division)\u001b[0m\n\u001b[0;32m   1927\u001b[0m     \"\"\"\n\u001b[0;32m   1928\u001b[0m \u001b[1;33m\u001b[0m\u001b[0m\n\u001b[1;32m-> 1929\u001b[1;33m     \u001b[0my_type\u001b[0m\u001b[1;33m,\u001b[0m \u001b[0my_true\u001b[0m\u001b[1;33m,\u001b[0m \u001b[0my_pred\u001b[0m \u001b[1;33m=\u001b[0m \u001b[0m_check_targets\u001b[0m\u001b[1;33m(\u001b[0m\u001b[0my_true\u001b[0m\u001b[1;33m,\u001b[0m \u001b[0my_pred\u001b[0m\u001b[1;33m)\u001b[0m\u001b[1;33m\u001b[0m\u001b[1;33m\u001b[0m\u001b[0m\n\u001b[0m\u001b[0;32m   1930\u001b[0m \u001b[1;33m\u001b[0m\u001b[0m\n\u001b[0;32m   1931\u001b[0m     \u001b[0mlabels_given\u001b[0m \u001b[1;33m=\u001b[0m \u001b[1;32mTrue\u001b[0m\u001b[1;33m\u001b[0m\u001b[1;33m\u001b[0m\u001b[0m\n",
      "\u001b[1;32m~\\anaconda3\\envs\\tf_gpu\\lib\\site-packages\\sklearn\\metrics\\_classification.py\u001b[0m in \u001b[0;36m_check_targets\u001b[1;34m(y_true, y_pred)\u001b[0m\n\u001b[0;32m     89\u001b[0m     \u001b[1;32mif\u001b[0m \u001b[0mlen\u001b[0m\u001b[1;33m(\u001b[0m\u001b[0my_type\u001b[0m\u001b[1;33m)\u001b[0m \u001b[1;33m>\u001b[0m \u001b[1;36m1\u001b[0m\u001b[1;33m:\u001b[0m\u001b[1;33m\u001b[0m\u001b[1;33m\u001b[0m\u001b[0m\n\u001b[0;32m     90\u001b[0m         raise ValueError(\"Classification metrics can't handle a mix of {0} \"\n\u001b[1;32m---> 91\u001b[1;33m                          \"and {1} targets\".format(type_true, type_pred))\n\u001b[0m\u001b[0;32m     92\u001b[0m \u001b[1;33m\u001b[0m\u001b[0m\n\u001b[0;32m     93\u001b[0m     \u001b[1;31m# We can't have more than one value on y_type => The set is no more needed\u001b[0m\u001b[1;33m\u001b[0m\u001b[1;33m\u001b[0m\u001b[1;33m\u001b[0m\u001b[0m\n",
      "\u001b[1;31mValueError\u001b[0m: Classification metrics can't handle a mix of binary and continuous targets"
     ]
    }
   ],
   "source": [
    "lmodel.fit(X_train, y_train)\n",
    "\n",
    "pred = lmodel.predict(X_test)\n",
    "\n",
    "print(classification_report(y_test, pred))"
   ]
  },
  {
   "cell_type": "code",
   "execution_count": 105,
   "metadata": {
    "ExecuteTime": {
     "end_time": "2020-09-09T16:01:22.938288Z",
     "start_time": "2020-09-09T16:01:22.906289Z"
    }
   },
   "outputs": [
    {
     "data": {
      "text/plain": [
       "0.11814340267333884"
      ]
     },
     "execution_count": 105,
     "metadata": {},
     "output_type": "execute_result"
    }
   ],
   "source": [
    "xmod = LinearRegression(n_jobs=-1)\n",
    "\n",
    "\n",
    "lmodel.intercept_"
   ]
  },
  {
   "cell_type": "code",
   "execution_count": null,
   "metadata": {},
   "outputs": [],
   "source": []
  },
  {
   "cell_type": "code",
   "execution_count": 23,
   "metadata": {
    "ExecuteTime": {
     "end_time": "2020-08-22T22:04:59.980996Z",
     "start_time": "2020-08-22T22:04:59.525994Z"
    }
   },
   "outputs": [],
   "source": [
    "sub.to_csv('submission5.csv', index=False)"
   ]
  }
 ],
 "metadata": {
  "kernelspec": {
   "display_name": "Python [conda env:tf_gpu]",
   "language": "python",
   "name": "conda-env-tf_gpu-py"
  },
  "language_info": {
   "codemirror_mode": {
    "name": "ipython",
    "version": 3
   },
   "file_extension": ".py",
   "mimetype": "text/x-python",
   "name": "python",
   "nbconvert_exporter": "python",
   "pygments_lexer": "ipython3",
   "version": "3.7.8"
  },
  "toc": {
   "base_numbering": 1,
   "nav_menu": {},
   "number_sections": true,
   "sideBar": true,
   "skip_h1_title": false,
   "title_cell": "Table of Contents",
   "title_sidebar": "Contents",
   "toc_cell": false,
   "toc_position": {},
   "toc_section_display": true,
   "toc_window_display": false
  },
  "varInspector": {
   "cols": {
    "lenName": 16,
    "lenType": 16,
    "lenVar": 40
   },
   "kernels_config": {
    "python": {
     "delete_cmd_postfix": "",
     "delete_cmd_prefix": "del ",
     "library": "var_list.py",
     "varRefreshCmd": "print(var_dic_list())"
    },
    "r": {
     "delete_cmd_postfix": ") ",
     "delete_cmd_prefix": "rm(",
     "library": "var_list.r",
     "varRefreshCmd": "cat(var_dic_list()) "
    }
   },
   "types_to_exclude": [
    "module",
    "function",
    "builtin_function_or_method",
    "instance",
    "_Feature"
   ],
   "window_display": false
  }
 },
 "nbformat": 4,
 "nbformat_minor": 4
}
